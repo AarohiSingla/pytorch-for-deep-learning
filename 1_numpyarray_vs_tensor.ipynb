{
 "cells": [
  {
   "cell_type": "code",
   "execution_count": 1,
   "id": "1733eff9-54b9-4e4c-ac3b-921f3bc036bf",
   "metadata": {},
   "outputs": [],
   "source": [
    "import numpy as np\n",
    "import torch\n",
    "import time\n"
   ]
  },
  {
   "cell_type": "code",
   "execution_count": 4,
   "id": "f91d5b8b-762e-46af-8185-2533d6592295",
   "metadata": {},
   "outputs": [
    {
     "name": "stdout",
     "output_type": "stream",
     "text": [
      "NumPy processing time: 0.018001 seconds\n"
     ]
    }
   ],
   "source": [
    "# Set the size of the matrices\n",
    "matrix_size = 1000\n",
    "\n",
    "# NumPy Example (on CPU)\n",
    "start_time_np = time.time()\n",
    "\n",
    "# Create two random matrices\n",
    "numpy_matrix1 = np.random.rand(matrix_size, matrix_size)\n",
    "numpy_matrix2 = np.random.rand(matrix_size, matrix_size)\n",
    "\n",
    "# Perform matrix multiplication\n",
    "numpy_result = np.dot(numpy_matrix1, numpy_matrix2)\n",
    "\n",
    "end_time_np = time.time()\n",
    "numpy_processing_time = end_time_np - start_time_np\n",
    "\n",
    "print(f\"NumPy processing time: {numpy_processing_time:.6f} seconds\")\n"
   ]
  },
  {
   "cell_type": "code",
   "execution_count": 5,
   "id": "2b7c531f-8353-47fe-9c2c-9dbb768adbfc",
   "metadata": {},
   "outputs": [
    {
     "name": "stdout",
     "output_type": "stream",
     "text": [
      "PyTorch processing time: 0.008997 seconds\n"
     ]
    }
   ],
   "source": [
    "# PyTorch Example (on GPU, if available)\n",
    "start_time_torch = time.time()\n",
    "\n",
    "# Create two random tensors\n",
    "torch_tensor1 = torch.rand(matrix_size, matrix_size)\n",
    "torch_tensor2 = torch.rand(matrix_size, matrix_size)\n",
    "\n",
    "# Move tensors to GPU if available\n",
    "if torch.cuda.is_available():\n",
    "    torch_tensor1 = torch_tensor1.cuda()\n",
    "    torch_tensor2 = torch_tensor2.cuda()\n",
    "\n",
    "# Perform matrix multiplication\n",
    "torch_result = torch.mm(torch_tensor1, torch_tensor2)\n",
    "\n",
    "end_time_torch = time.time()\n",
    "torch_processing_time = end_time_torch - start_time_torch\n",
    "\n",
    "# Print processing times\n",
    "\n",
    "print(f\"PyTorch processing time: {torch_processing_time:.6f} seconds\")\n"
   ]
  },
  {
   "cell_type": "code",
   "execution_count": null,
   "id": "0b46213a-653e-4261-96ab-4e149af47117",
   "metadata": {},
   "outputs": [],
   "source": []
  }
 ],
 "metadata": {
  "kernelspec": {
   "display_name": "Python 3 (ipykernel)",
   "language": "python",
   "name": "python3"
  },
  "language_info": {
   "codemirror_mode": {
    "name": "ipython",
    "version": 3
   },
   "file_extension": ".py",
   "mimetype": "text/x-python",
   "name": "python",
   "nbconvert_exporter": "python",
   "pygments_lexer": "ipython3",
   "version": "3.11.6"
  }
 },
 "nbformat": 4,
 "nbformat_minor": 5
}
