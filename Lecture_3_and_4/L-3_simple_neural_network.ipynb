{
 "cells": [
  {
   "cell_type": "markdown",
   "id": "d3104121",
   "metadata": {},
   "source": [
    "# Custom dataset - 2 classes (daisy and Dandilion)\n",
    "\n",
    "This architecture is a simple feedforward neural network designed for image classification tasks with two classes. The model takes RGB images of size 256x256 and outputs probability scores for each class using the softmax function."
   ]
  },
  {
   "cell_type": "code",
   "execution_count": 1,
   "id": "f7d8f774-50ee-48b6-b301-c407a1ed6386",
   "metadata": {},
   "outputs": [],
   "source": [
    "#!pip install scikit-learn\n",
    "#!pip install numpy\n",
    "#!pip install matplotlib"
   ]
  },
  {
   "cell_type": "code",
   "execution_count": 2,
   "id": "a9d43cae",
   "metadata": {},
   "outputs": [
    {
     "data": {
      "text/plain": [
       "<torch._C.Generator at 0x2625a783c90>"
      ]
     },
     "execution_count": 2,
     "metadata": {},
     "output_type": "execute_result"
    }
   ],
   "source": [
    "import torch\n",
    "import torch.nn as nn\n",
    "import torch.optim as optim\n",
    "import torchvision.transforms as transforms\n",
    "from torch.utils.data import DataLoader, Dataset\n",
    "from torchvision.datasets import ImageFolder\n",
    "from sklearn.metrics import accuracy_score, precision_score, recall_score, f1_score\n",
    "import matplotlib.pyplot as plt\n",
    "\n",
    "# Set random seed for reproducibility\n",
    "torch.manual_seed(10)\n"
   ]
  },
  {
   "cell_type": "code",
   "execution_count": 3,
   "id": "044c70f0",
   "metadata": {},
   "outputs": [],
   "source": [
    "# Define the neural network architecture\n",
    "class SimpleNN(nn.Module):\n",
    "    def __init__(self):\n",
    "        super(SimpleNN, self).__init__()\n",
    "        self.fc1 = nn.Linear(3 * 256 * 256, 128)  # Assuming input images are RGB and 256x256\n",
    "        self.relu = nn.ReLU()\n",
    "        self.fc2 = nn.Linear(128, 2)  # Output layer with 2 classes\n",
    "        self.softmax = nn.Softmax(dim=1)\n",
    "\n",
    "    def forward(self, x):\n",
    "        x = x.view(-1, 3 * 256 * 256)  # Flatten the input images (reshapes the input tensor to have a size of (batch_size, 3 * 256 * 256)\n",
    "        x = self.relu(self.fc1(x))\n",
    "        x = self.softmax(self.fc2(x))\n",
    "        return x\n"
   ]
  },
  {
   "cell_type": "code",
   "execution_count": 4,
   "id": "17f222f9",
   "metadata": {},
   "outputs": [],
   "source": [
    "# Set up data transformations\n",
    "transform = transforms.Compose([\n",
    "    transforms.Resize((256, 256)),\n",
    "    transforms.ToTensor(),\n",
    "    transforms.Normalize((0.5, 0.5, 0.5), (0.5, 0.5, 0.5))\n",
    "])"
   ]
  },
  {
   "cell_type": "code",
   "execution_count": 5,
   "id": "2cf1826f",
   "metadata": {},
   "outputs": [],
   "source": [
    "# Define custom dataset class\n",
    "class CustomDataset(Dataset):\n",
    "    def __init__(self, root, transform=None):\n",
    "        self.dataset = ImageFolder(root, transform=transform)  #This ensures that every image in the dataset is resized, converted to a tensor, and normalized before being used in the training or testing process.\n",
    "\n",
    "    def __len__(self):\n",
    "        return len(self.dataset)\n",
    "\n",
    "    def __getitem__(self, idx):\n",
    "        return self.dataset[idx]\n"
   ]
  },
  {
   "cell_type": "code",
   "execution_count": 6,
   "id": "31724608",
   "metadata": {},
   "outputs": [],
   "source": [
    "# Define data loaders\n",
    "train_dataset = CustomDataset(root='Flowers_Classification_dataset/train', transform=transform)\n",
    "test_dataset = CustomDataset(root='Flowers_Classification_dataset/val', transform=transform)\n",
    "\n",
    "train_loader = DataLoader(dataset=train_dataset, batch_size=64, shuffle=True)\n",
    "test_loader = DataLoader(dataset=test_dataset, batch_size=64, shuffle=False)"
   ]
  },
  {
   "cell_type": "code",
   "execution_count": 7,
   "id": "88a52778",
   "metadata": {},
   "outputs": [],
   "source": [
    "# Instantiate the model, loss function, and optimizer\n",
    "model = SimpleNN()\n",
    "criterion = nn.CrossEntropyLoss()\n",
    "optimizer = optim.Adam(model.parameters(), lr=0.0001)\n"
   ]
  },
  {
   "cell_type": "code",
   "execution_count": 8,
   "id": "247e9d0c",
   "metadata": {},
   "outputs": [
    {
     "name": "stdout",
     "output_type": "stream",
     "text": [
      "Epoch [1/50], Training Loss: 0.7252, Validation Loss: 0.7275\n",
      "Epoch [2/50], Training Loss: 0.7025, Validation Loss: 0.7319\n",
      "Epoch [3/50], Training Loss: 0.6750, Validation Loss: 0.7206\n",
      "Epoch [4/50], Training Loss: 0.6495, Validation Loss: 0.6836\n",
      "Epoch [5/50], Training Loss: 0.6393, Validation Loss: 0.6892\n",
      "Epoch [6/50], Training Loss: 0.6215, Validation Loss: 0.6751\n",
      "Epoch [7/50], Training Loss: 0.6006, Validation Loss: 0.6753\n",
      "Epoch [8/50], Training Loss: 0.5961, Validation Loss: 0.6631\n",
      "Epoch [9/50], Training Loss: 0.5706, Validation Loss: 0.6424\n",
      "Epoch [10/50], Training Loss: 0.5768, Validation Loss: 0.6587\n",
      "Epoch [11/50], Training Loss: 0.5493, Validation Loss: 0.6363\n",
      "Epoch [12/50], Training Loss: 0.5408, Validation Loss: 0.6210\n",
      "Epoch [13/50], Training Loss: 0.5578, Validation Loss: 0.6556\n",
      "Epoch [14/50], Training Loss: 0.5369, Validation Loss: 0.6321\n",
      "Epoch [15/50], Training Loss: 0.5128, Validation Loss: 0.6282\n",
      "Epoch [16/50], Training Loss: 0.5019, Validation Loss: 0.6427\n",
      "Epoch [17/50], Training Loss: 0.4859, Validation Loss: 0.6303\n",
      "Epoch [18/50], Training Loss: 0.4676, Validation Loss: 0.6258\n",
      "Epoch [19/50], Training Loss: 0.4594, Validation Loss: 0.6277\n",
      "Epoch [20/50], Training Loss: 0.4488, Validation Loss: 0.6380\n",
      "Epoch [21/50], Training Loss: 0.4438, Validation Loss: 0.6414\n",
      "Epoch [22/50], Training Loss: 0.4320, Validation Loss: 0.6303\n",
      "Epoch [23/50], Training Loss: 0.4207, Validation Loss: 0.6444\n",
      "Epoch [24/50], Training Loss: 0.4179, Validation Loss: 0.6266\n",
      "Epoch [25/50], Training Loss: 0.4151, Validation Loss: 0.6277\n",
      "Epoch [26/50], Training Loss: 0.4072, Validation Loss: 0.6266\n",
      "Epoch [27/50], Training Loss: 0.3957, Validation Loss: 0.6241\n",
      "Epoch [28/50], Training Loss: 0.3926, Validation Loss: 0.6359\n",
      "Epoch [29/50], Training Loss: 0.3892, Validation Loss: 0.6367\n",
      "Epoch [30/50], Training Loss: 0.3877, Validation Loss: 0.6623\n",
      "Epoch [31/50], Training Loss: 0.3836, Validation Loss: 0.6458\n",
      "Epoch [32/50], Training Loss: 0.3793, Validation Loss: 0.6401\n",
      "Epoch [33/50], Training Loss: 0.3790, Validation Loss: 0.6426\n",
      "Epoch [34/50], Training Loss: 0.3761, Validation Loss: 0.6343\n",
      "Epoch [35/50], Training Loss: 0.3739, Validation Loss: 0.6262\n",
      "Epoch [36/50], Training Loss: 0.3764, Validation Loss: 0.6433\n",
      "Epoch [37/50], Training Loss: 0.3838, Validation Loss: 0.6301\n",
      "Epoch [38/50], Training Loss: 0.3710, Validation Loss: 0.6265\n",
      "Epoch [39/50], Training Loss: 0.3693, Validation Loss: 0.6375\n",
      "Epoch [40/50], Training Loss: 0.3685, Validation Loss: 0.6320\n",
      "Epoch [41/50], Training Loss: 0.3674, Validation Loss: 0.6446\n",
      "Epoch [42/50], Training Loss: 0.3638, Validation Loss: 0.6276\n",
      "Epoch [43/50], Training Loss: 0.3699, Validation Loss: 0.6433\n",
      "Epoch [44/50], Training Loss: 0.3658, Validation Loss: 0.6342\n",
      "Epoch [45/50], Training Loss: 0.3608, Validation Loss: 0.6272\n",
      "Epoch [46/50], Training Loss: 0.3671, Validation Loss: 0.6250\n",
      "Epoch [47/50], Training Loss: 0.3651, Validation Loss: 0.6495\n",
      "Epoch [48/50], Training Loss: 0.3670, Validation Loss: 0.6324\n",
      "Epoch [49/50], Training Loss: 0.3630, Validation Loss: 0.6355\n",
      "Epoch [50/50], Training Loss: 0.3597, Validation Loss: 0.6586\n",
      "Accuracy: 0.6401, Precision: 0.6407, Recall: 0.6401, F1 Score: 0.6270\n"
     ]
    },
    {
     "data": {
      "image/png": "[encoded data removed]",
      "text/plain": [
       "<Figure size 640x480 with 1 Axes>"
      ]
     },
     "metadata": {},
     "output_type": "display_data"
    }
   ],
   "source": [
    "# Training the model\n",
    "num_epochs = 50\n",
    "train_losses = []\n",
    "valid_losses = []\n",
    "\n",
    "for epoch in range(num_epochs):\n",
    "    model.train()\n",
    "    running_loss = 0.0\n",
    "    for inputs, labels in train_loader:\n",
    "        optimizer.zero_grad()\n",
    "        outputs = model(inputs)\n",
    "        loss = criterion(outputs, labels)\n",
    "        loss.backward()\n",
    "        optimizer.step()\n",
    "        running_loss += loss.item()\n",
    "\n",
    "    average_train_loss = running_loss / len(train_loader)\n",
    "    train_losses.append(average_train_loss)\n",
    "\n",
    "    # Validation\n",
    "    model.eval()\n",
    "    valid_loss = 0.0\n",
    "    with torch.no_grad():\n",
    "        for inputs, labels in test_loader:\n",
    "            outputs = model(inputs)\n",
    "            loss = criterion(outputs, labels)\n",
    "            valid_loss += loss.item()\n",
    "\n",
    "    average_valid_loss = valid_loss / len(test_loader)\n",
    "    valid_losses.append(average_valid_loss)\n",
    "\n",
    "    print(f'Epoch [{epoch + 1}/{num_epochs}], '\n",
    "          f'Training Loss: {average_train_loss:.4f}, '\n",
    "          f'Validation Loss: {average_valid_loss:.4f}')\n",
    "\n",
    "# Evaluate the model\n",
    "def evaluate_model(model, data_loader):\n",
    "    model.eval()\n",
    "    all_preds = []\n",
    "    all_labels = []\n",
    "\n",
    "    with torch.no_grad():\n",
    "        for inputs, labels in data_loader:\n",
    "            outputs = model(inputs)\n",
    "            _, preds = torch.max(outputs, 1)\n",
    "            all_preds.extend(preds.cpu().numpy())\n",
    "            all_labels.extend(labels.cpu().numpy())\n",
    "\n",
    "    accuracy = accuracy_score(all_labels, all_preds)\n",
    "    precision = precision_score(all_labels, all_preds, average='weighted')\n",
    "    recall = recall_score(all_labels, all_preds, average='weighted')\n",
    "    f1 = f1_score(all_labels, all_preds, average='weighted')\n",
    "\n",
    "    print(f'Accuracy: {accuracy:.4f}, Precision: {precision:.4f}, Recall: {recall:.4f}, F1 Score: {f1:.4f}')\n",
    "\n",
    "evaluate_model(model, test_loader)\n",
    "\n",
    "# Visualize training and validation curves\n",
    "plt.plot(train_losses, label='Training Loss')\n",
    "plt.plot(valid_losses, label='Validation Loss')\n",
    "plt.xlabel('Epoch')\n",
    "plt.ylabel('Loss')\n",
    "plt.legend()\n",
    "plt.show()\n",
    "\n",
    "# Save the trained model\n",
    "torch.save(model.state_dict(), 'binary_classification_model.pth')\n"
   ]
  },
  {
   "cell_type": "code",
   "execution_count": null,
   "id": "e261cf9e-ee95-4a7f-822d-006f0cd186b7",
   "metadata": {},
   "outputs": [],
   "source": []
  },
  {
   "cell_type": "code",
   "execution_count": null,
   "id": "55138b01-a92b-496c-a80e-c5bc928d3e49",
   "metadata": {},
   "outputs": [],
   "source": []
  },
  {
   "cell_type": "code",
   "execution_count": null,
   "id": "30e21908-c41e-456c-8d11-a4f78ec85d8d",
   "metadata": {},
   "outputs": [],
   "source": []
  }
 ],
 "metadata": {
  "kernelspec": {
   "display_name": "Python 3 (ipykernel)",
   "language": "python",
   "name": "python3"
  },
  "language_info": {
   "codemirror_mode": {
    "name": "ipython",
    "version": 3
   },
   "file_extension": ".py",
   "mimetype": "text/x-python",
   "name": "python",
   "nbconvert_exporter": "python",
   "pygments_lexer": "ipython3",
   "version": "3.11.6"
  }
 },
 "nbformat": 4,
 "nbformat_minor": 5
}
